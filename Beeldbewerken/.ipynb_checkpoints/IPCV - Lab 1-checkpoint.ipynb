{
 "cells": [
  {
   "cell_type": "markdown",
   "metadata": {},
   "source": [
    "## Library imports and iPython settings"
   ]
  },
  {
   "cell_type": "code",
   "execution_count": 2,
   "metadata": {
    "collapsed": false
   },
   "outputs": [],
   "source": [
    "# Full library imports\n",
    "import random\n",
    "import numpy as np\n",
    "import scipy.ndimage as scimg\n",
    "import matplotlib.pyplot as plt\n",
    "import skimage.color as skc\n",
    "# Selective library imports\n",
    "from pylab import rcParams\n",
    "from numpy import histogram, interp, cumsum, diff\n",
    "from matplotlib import cm\n",
    "from scipy.ndimage import imread\n",
    "from mpl_toolkits.mplot3d import Axes3D\n",
    "from sklearn.linear_model import LogisticRegressionCV\n",
    "#ipython setting\n",
    "\n",
    "rcParams['figure.figsize'] = (10, 6)"
   ]
  },
  {
   "cell_type": "markdown",
   "metadata": {},
   "source": [
    "# Histogram equalization"
   ]
  },
  {
   "cell_type": "markdown",
   "metadata": {},
   "source": [
    "1. To get $ f: D \\rightarrow \\left[ 0, M\\right]$, simply scale the cumulative distribution function $H_f \\left( v \\right)$ with the factor M. This gives: $\\psi = M \\cdot H_f \\left( v \\right)$\n",
    "\n",
    "2. The following program  takes in a simple image and runs a histogram equalization algorithm. After this the original picture and the equalised picture are shown together with their histograms. The image is read with scipy ensuring it is read into memory as a uint8 array."
   ]
  },
  {
   "cell_type": "code",
   "execution_count": null,
   "metadata": {
    "collapsed": false
   },
   "outputs": [],
   "source": [
    "BINS = 100\n",
    "IM_SIZE = 255\n",
    "\n",
    "def histogramEqualization(f, bins=BINS):\n",
    "\this, be = histogram(f, range=(0,IM_SIZE), bins=bins)\n",
    "\thist = his.astype(float)/sum(his)\n",
    "\treturn interp(f, be[1:], cumsum(hist)), his, be\n",
    "\n",
    "\n",
    "#Read figure and equalise\n",
    "img = scimg.imread(\"cameraman1.png\")\n",
    "img_eq, his, be = histogramEqualization(img)\n",
    "\n",
    "f, axarr = plt.subplots(2, 2)\n",
    "\n",
    "#plot histogram of original data\n",
    "axarr[1, 0].bar((be[:-1] + be[1:]) / 2, his, align='center', width=diff(be))\n",
    "axarr[1, 0].set_xticks([be[x] for x in range(0, len(be), int(BINS/10))])\n",
    "\n",
    "# Show original image\n",
    "axarr[0, 0].imshow(img, cmap='gray')\n",
    "\n",
    "#plot histogram of equalized image\n",
    "his, be = histogram(img_eq, range=(0,1), bins=BINS)\n",
    "axarr[1, 1].bar((be[:-1] + be[1:]) / 2, his, align='center', width=diff(be))\n",
    "axarr[1, 1].set_xticks([be[x] for x in range(0, len(be), int(BINS/10))])\n",
    "\n",
    "# Show equalized image\n",
    "axarr[0, 1].imshow(img_eq, cmap='gray')\n",
    "\n",
    "plt.show()"
   ]
  },
  {
   "cell_type": "markdown",
   "metadata": {},
   "source": [
    "# Skin color detection"
   ]
  },
  {
   "cell_type": "markdown",
   "metadata": {},
   "source": [
    "1. Plot a 3d-scatter plot of RGB values of skin and non-skin colors. Plots the points corresponding to skin color in green and the points corresponding to non-skin color in red."
   ]
  },
  {
   "cell_type": "code",
   "execution_count": null,
   "metadata": {
    "collapsed": false
   },
   "outputs": [],
   "source": [
    "# Amount of samples taken in plotting 3D scatter\n",
    "SAMPLES = 500\n",
    "\n",
    "# Randomly takes n points from a numpy array\n",
    "def sample(ar, n):\n",
    "\n",
    "\ti = 0\n",
    "\tsample = 0\n",
    "\t# Create empty holder array\n",
    "\tsamples = np.zeros(n)\n",
    "\n",
    "\twhile i < len(ar) and sample < n:\n",
    "\n",
    "\t\t# 50% chance to select item, not critical in this\n",
    "\t\t# implementation (just used for speeding up program)\n",
    "\t\tif random.random() > .5:\n",
    "\n",
    "\t\t\tsamples[sample] = ar[i]\n",
    "\t\t\tsample += 1\n",
    "\n",
    "\t\ti += 1\n",
    "\n",
    "\treturn samples\n",
    "\n",
    "#Read images\n",
    "# f = imread('SkinColor/FacePhoto/0520962400.jpg')\n",
    "# m = imread('SkinColor/GroundT_FacePhoto/0520962400.png')\n",
    "f = imread('SkinColor/FamilyPhoto/buck_family.jpg')\n",
    "m = imread('SkinColor/GroundT_FamilyPhoto/buck_family.png')\n",
    "\n",
    "skincolors = f[m[:,:,0]==255]\n",
    "nonskincolors = f[m[:,:,0]==0]\n",
    "\n",
    "# Take a selection of SAMPLES points to plot in 3D plot for\n",
    "# both skin- and non-skin colors\n",
    "x, y, z = np.split(skincolors, 3, 1)\n",
    "x = sample(x, SAMPLES)\n",
    "y = sample(y, SAMPLES)\n",
    "z = sample(z, SAMPLES)\n",
    "\n",
    "t, u, v = np.split(nonskincolors, 3, 1)\n",
    "t = sample(x, SAMPLES)\n",
    "u = sample(y, SAMPLES)\n",
    "v = sample(z, SAMPLES)\n",
    "\n",
    "# 3D scatter plot of randomly selected points\n",
    "fig = plt.figure()\n",
    "ax = fig.add_subplot(111, projection='3d')\n",
    "ax.scatter(x, y, z, s=30, c='green')\n",
    "ax.scatter(t, u, v, s=30, c='red')\n",
    "ax.set_xlabel('R')\n",
    "ax.set_ylabel('G')\n",
    "ax.set_zlabel('B')\n",
    "plt.show()"
   ]
  },
  {
   "cell_type": "markdown",
   "metadata": {},
   "source": [
    "Train classifier for use with skin color detection"
   ]
  },
  {
   "cell_type": "code",
   "execution_count": null,
   "metadata": {
    "collapsed": false
   },
   "outputs": [],
   "source": [
    "# Convert image to lab color convention taking only the ab dimensions\n",
    "f_lab = skc.rgb2lab(f)[::, ::, 1::]\n",
    "# Extract skin- and non-skin colors from image data\n",
    "sc_lab = f_lab[m[:,:,0]==255]\n",
    "nsc_lab = f_lab[m[:,:,0]==0]\n",
    "\n",
    "# Scatter plot of a selection of skin and non-skin colors\n",
    "plt.scatter(sc_lab[::25, 0], sc_lab[::25, 1], s=1, marker=',', color='green')\n",
    "plt.scatter(nsc_lab[::25, 0], nsc_lab[::25, 1], s=1, marker=',', color='red')\n",
    "plt.xlabel(\"a\")\n",
    "plt.ylabel(\"b\")\n",
    "plt.show()\n",
    "\n",
    "# Combine the skin and non-skin color feature vectors into a single item\n",
    "# And do this for the classes corresponding to the colors\n",
    "color = np.vstack((sc_lab, nsc_lab))\n",
    "target = np.concatenate((np.ones(len(sc_lab)),np.zeros(len(nsc_lab))))\n",
    "\n",
    "# Take half the data to learn the classifier and use the other half to\n",
    "# test it\n",
    "learn_color = color[1::2]\n",
    "test_color = color[0::2]\n",
    "learn_target = target[1::2]\n",
    "test_target = target[0::2]\n",
    "logregr = LogisticRegressionCV()\n",
    "logregr.fit(learn_color, learn_target)\n",
    "\n",
    "print(\"Score of logistic regression:\")\n",
    "print(logregr.score(test_color, test_target))\n",
    "\n",
    "image_colors = f_lab.reshape((-1,2))\n",
    "predict_skin = logregr.predict(image_colors).reshape(f_lab.shape[:2])\n",
    "\n",
    "plt.subplot(121)\n",
    "plt.imshow(f)\n",
    "plt.subplot(122)\n",
    "plt.imshow(predict_skin)\n",
    "plt.show()"
   ]
  },
  {
   "cell_type": "markdown",
   "metadata": {},
   "source": [
    "To get a generally applicable classifier we need to train it with more than just one picture. Also, using the same picture we trained with as a test is questionable to say the least. Though the princimple has been proven the need for more training data is necessary.\n",
    "\n",
    "In the following program a loop is called for all pictures in the directory and then they are used for training the classifier. A subset of pixels is used to reduce the large amount of data. Then the classifier is tested on another folder of images which will check the validity of the classifier."
   ]
  },
  {
   "cell_type": "code",
   "execution_count": 14,
   "metadata": {
    "collapsed": false
   },
   "outputs": [],
   "source": [
    "from os import listdir, getcwd\n",
    "from os.path import isfile, join\n",
    "\n",
    "REL_PATH_ORG = 'SkinColor/FacePhoto/'\n",
    "REL_PATH_MASK = 'SkinColor/GroundT_FacePhoto/'\n",
    "\n",
    "def read_image(file, sample_interval):\n",
    "    \n",
    "    f = imread(REL_PATH_ORG + file)\n",
    "    if file[-4:] == \".jpg\":\n",
    "        m = imread(REL_PATH_MASK + file[:-4] + '.png')\n",
    "    elif file[-4:] == \"jpeg\":\n",
    "        m = imread(REL_PATH_MASK + file[:-4] + 'png')\n",
    "        \n",
    "    # Convert image to lab color convention taking only the ab dimensions\n",
    "    # and every 100th element to reduce sheer amount of data\n",
    "    f_lab = skc.rgb2lab(f)[::, ::sample_interval, 1::]\n",
    "    # Extract skin- and non-skin colors from image data\n",
    "    sc_lab = f_lab[m[:, ::sample_interval, 0]==255]\n",
    "    nsc_lab = f_lab[m[:, ::sample_interval, 0]==0]\n",
    "        \n",
    "    color = np.vstack((sc_lab, nsc_lab))\n",
    "    target = np.concatenate((np.ones(len(sc_lab)),np.zeros(len(nsc_lab))))\n",
    "    \n",
    "    return color, target\n",
    "    \n",
    "    \n",
    "\n",
    "# Reads image data from current directory (image data should be saved here)\n",
    "def read_image_folder():\n",
    "    \n",
    "    mypath = getcwd()\n",
    "    original = mypath + '/' + REL_PATH_ORG\n",
    "    original_list = [f for f in listdir(original)]\n",
    "    original_list.sort()\n",
    "    \n",
    "    # Set up initial data vector to whcih other will be appended\n",
    "    data_vector, target_vector = read_image(original_list[1], 100)\n",
    "    \n",
    "    for file in original_list[1:]:\n",
    "        \n",
    "        c, t = read_image(file, 100)\n",
    "        \n",
    "        data_vector = np.concatenate((data_vector, c))\n",
    "        target_vector = np.concatenate((target_vector, t))\n",
    "    \n",
    "    return data_vector, target_vector\n",
    "\n",
    "class skin_color_classifier:\n",
    "    \n",
    "    def __init__(self, data, target, classifier=LogisticRegressionCV):\n",
    "        \n",
    "        self.classifier = classifier\n",
    "        self.data = data\n",
    "        self.target = target\n",
    "        \n",
    "    \n",
    "        \n",
    "## TODO: get sampling of images working\n",
    "\n",
    "## TODO: train classifier with smaples\n",
    "\n",
    "## TODO: put family photos into calssifier and check if working\n",
    "\n",
    "\n",
    "clrs, trgts = read_image_folder()\n",
    "\n",
    "logregr = skin_color_classifier(clrs, trgts)"
   ]
  }
 ],
 "metadata": {
  "kernelspec": {
   "display_name": "Python 3",
   "language": "python",
   "name": "python3"
  },
  "language_info": {
   "codemirror_mode": {
    "name": "ipython",
    "version": 3
   },
   "file_extension": ".py",
   "mimetype": "text/x-python",
   "name": "python",
   "nbconvert_exporter": "python",
   "pygments_lexer": "ipython3",
   "version": "3.6.0"
  }
 },
 "nbformat": 4,
 "nbformat_minor": 2
}
